{
 "cells": [
  {
   "cell_type": "markdown",
   "metadata": {},
   "source": [
    "# Ejercicio 1\n",
    "Ejercicio 1 de evalucion de expresiones en Python\n",
    "\n",
    "$ \\frac {\\pi ^ 2}{6} = \\sum_{n=1}^{\\infty} \\frac{1}{n ^ 2}$"
   ]
  },
  {
   "cell_type": "code",
   "execution_count": 8,
   "metadata": {},
   "outputs": [
    {
     "name": "stdout",
     "output_type": "stream",
     "text": [
      "valor de teorico: 1.6449340668482264, Aproximacion: 1.6449240667982423\n",
      "Error: 1.0000049984082438e-05\n"
     ]
    }
   ],
   "source": [
    "import math\n",
    "res =math.pi **2 / 6 \n",
    "res2 = 0\n",
    "\n",
    "for n in range (1, 100000):\n",
    "    res2+=1/(n**2)\n",
    "\n",
    "print(f\"valor de teorico: {res}, Aproximacion: {res2}\")\n",
    "error= abs(res - res2)\n",
    "print(f\"Error: {error}\")"
   ]
  },
  {
   "cell_type": "markdown",
   "metadata": {},
   "source": [
    "### Expresion 1\n",
    "Se prioriza la potencia, luego la multiplicacion y por ultimo la suma \n",
    "lo que daria (2**2=4, 4*4=16, + 3 = 19)"
   ]
  },
  {
   "cell_type": "code",
   "execution_count": 11,
   "metadata": {},
   "outputs": [
    {
     "name": "stdout",
     "output_type": "stream",
     "text": [
      "19\n"
     ]
    }
   ],
   "source": [
    "resultado = 3 + 4 * 2 ** 2\n",
    "print (resultado)"
   ]
  }
 ],
 "metadata": {
  "kernelspec": {
   "display_name": "Python 3",
   "language": "python",
   "name": "python3"
  },
  "language_info": {
   "codemirror_mode": {
    "name": "ipython",
    "version": 3
   },
   "file_extension": ".py",
   "mimetype": "text/x-python",
   "name": "python",
   "nbconvert_exporter": "python",
   "pygments_lexer": "ipython3",
   "version": "3.11.4"
  }
 },
 "nbformat": 4,
 "nbformat_minor": 2
}
