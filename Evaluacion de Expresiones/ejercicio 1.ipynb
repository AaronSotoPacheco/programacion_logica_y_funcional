{
 "cells": [
  {
   "cell_type": "markdown",
   "metadata": {},
   "source": [
    "# Ejercicio 1\n",
    "Ejercicio 1 de evalucion de expresiones en Python\n",
    "\n",
    "$ \\frac {\\pi ^ 2}{6} = \\sum_{n=1}^{\\infty} \\frac{1}{n ^ 2}$"
   ]
  },
  {
   "cell_type": "code",
   "execution_count": 8,
   "metadata": {},
   "outputs": [
    {
     "name": "stdout",
     "output_type": "stream",
     "text": [
      "valor de teorico: 1.6449340668482264, Aproximacion: 1.6449240667982423\n",
      "Error: 1.0000049984082438e-05\n"
     ]
    }
   ],
   "source": [
    "import math\n",
    "res =math.pi **2 / 6 \n",
    "res2 = 0\n",
    "\n",
    "for n in range (1, 100000):\n",
    "    res2+=1/(n**2)\n",
    "\n",
    "print(f\"valor de teorico: {res}, Aproximacion: {res2}\")\n",
    "error= abs(res - res2)\n",
    "print(f\"Error: {error}\")"
   ]
  },
  {
   "cell_type": "markdown",
   "metadata": {},
   "source": [
    "### Expresion 1\n",
    "Se prioriza la potencia, luego la multiplicacion y por ultimo la suma \n",
    "lo que daria (2**2=4, 4*4=16, + 3 = 19)"
   ]
  },
  {
   "cell_type": "code",
   "execution_count": 1,
   "metadata": {},
   "outputs": [
    {
     "name": "stdout",
     "output_type": "stream",
     "text": [
      "19\n"
     ]
    }
   ],
   "source": [
    "resultado = 3 + 4 * 2 ** 2\n",
    "print (resultado)"
   ]
  },
  {
   "cell_type": "markdown",
   "metadata": {},
   "source": [
    "### Expresion 2\n",
    "Se prioriza la potencia lo que seria (3**2 = 9), luego se multiplica el resultado por 2 lo que seria (2*9 = 18), lo que da por resultado 18"
   ]
  },
  {
   "cell_type": "code",
   "execution_count": 2,
   "metadata": {},
   "outputs": [
    {
     "name": "stdout",
     "output_type": "stream",
     "text": [
      "18\n"
     ]
    }
   ],
   "source": [
    "expr2 = 2 * 3 ** 2 \n",
    "print (expr2) "
   ]
  },
  {
   "cell_type": "markdown",
   "metadata": {},
   "source": [
    "### Expresion 3\n",
    "Se divide el 10 entre el 3 lo que daria (10 / 3= 3.33) pero al momento de hacer la expresion // quita los decimales del resultado lo que queda (3), por ultimo solo se suma con el 2 lo que daria (3 + 2 = 5)"
   ]
  },
  {
   "cell_type": "code",
   "execution_count": 3,
   "metadata": {},
   "outputs": [
    {
     "name": "stdout",
     "output_type": "stream",
     "text": [
      "5\n"
     ]
    }
   ],
   "source": [
    "expr3 = 10 // 3 + 2\n",
    "print (expr3)"
   ]
  },
  {
   "cell_type": "markdown",
   "metadata": {},
   "source": [
    "### Expresion 4\n",
    "El operador % marca el resudio de la division lo que daria (17 % 5 = 2), por ultimo el residuo se multiplica por 2 lo que daria (2 * 2 = 4)"
   ]
  },
  {
   "cell_type": "code",
   "execution_count": 6,
   "metadata": {},
   "outputs": [
    {
     "name": "stdout",
     "output_type": "stream",
     "text": [
      "4\n"
     ]
    }
   ],
   "source": [
    "expr4 = 17 % 5 * 2 \n",
    "print (expr4)"
   ]
  },
  {
   "cell_type": "markdown",
   "metadata": {},
   "source": [
    "### Expresion 5\n",
    "Primero se vuelve negativo el 2 lo que daria -2 y por ultimo se toma su potencia lo que daria (-2 ** 2 = -4)"
   ]
  },
  {
   "cell_type": "code",
   "execution_count": 7,
   "metadata": {},
   "outputs": [
    {
     "name": "stdout",
     "output_type": "stream",
     "text": [
      "-4\n"
     ]
    }
   ],
   "source": [
    "expr5 = -2 ** 2 \n",
    "print (expr5)"
   ]
  },
  {
   "cell_type": "markdown",
   "metadata": {},
   "source": [
    "### Expresion 6 \n",
    "primero se hace la potencias lo que da (2 ** 2 = 4) despues se hace la multiplicacion (4 * 4 = 16), despues se hace la division redondeada (16 // 3 = 5) y por ultimo la suma (5 + 3 = 8)"
   ]
  },
  {
   "cell_type": "code",
   "execution_count": 10,
   "metadata": {},
   "outputs": [
    {
     "name": "stdout",
     "output_type": "stream",
     "text": [
      "8\n"
     ]
    }
   ],
   "source": [
    "expr6 = 3 + 4 * 2 ** 2 // 3\n",
    "print (expr6)"
   ]
  },
  {
   "cell_type": "markdown",
   "metadata": {},
   "source": [
    "### Expresion 7\n",
    "Primero se evalua el 3 y el dando (3 < 4 = True) despues se evalua el 4 con el 5 dando (4 < 5 = True)"
   ]
  },
  {
   "cell_type": "code",
   "execution_count": 11,
   "metadata": {},
   "outputs": [
    {
     "name": "stdout",
     "output_type": "stream",
     "text": [
      "True\n"
     ]
    }
   ],
   "source": [
    "expr7 = 3 < 4 < 5 \n",
    "print (expr7)"
   ]
  },
  {
   "cell_type": "markdown",
   "metadata": {},
   "source": [
    "### Expresion 8 \n",
    "Primero se evalua el 3 y el 2 (3>2 = True) luego se evalua el 5 con el 10 (5 < 10 = True) despues se evaluan las dos operaciones ya hechas con un and lo que da (true and true = true) y por ultimo se hace la comparativa or (true or False = True)"
   ]
  },
  {
   "cell_type": "code",
   "execution_count": 12,
   "metadata": {},
   "outputs": [
    {
     "name": "stdout",
     "output_type": "stream",
     "text": [
      "True\n"
     ]
    }
   ],
   "source": [
    "expr8 = (3>2) and (5<10) or False\n",
    "print (expr8)"
   ]
  },
  {
   "cell_type": "markdown",
   "metadata": {},
   "source": [
    "### Expresion 9\n",
    "Primero se hace la suma del 3 y el 1 lo que daria (3 + 1 = 4) y por ultimo se hace la funcion & en convirtiendo en binarios el 5 y el 4 lo que da (5 & 4 = 5) "
   ]
  },
  {
   "cell_type": "code",
   "execution_count": 13,
   "metadata": {},
   "outputs": [
    {
     "name": "stdout",
     "output_type": "stream",
     "text": [
      "4\n"
     ]
    }
   ],
   "source": [
    "expr9 = 5 & 3 + 1 \n",
    "print (expr9)"
   ]
  },
  {
   "cell_type": "markdown",
   "metadata": {},
   "source": [
    "### Expresion 10\n",
    "Primero se hace la primera operacion en parentesis que seria 2 mas 3 lo que da (2 + 3 = 5) despues se hace la segunda operacion entre parentesis que seria el residuo de 5 entre 3 lo que da (5 % 3 = 2), luego se sube el 4 al cuadrado lo que da (4 ** 2 = 16), despues se hace la multiplicacion 5 por 16 lo que da (5 * 16 = 80) y despues se hace la division redondeada de 80 entre 2 lo que da (80 // 2 = 40) ya por ultimo se hace la comparacion de 40 y 0 lo que da (40 es diferente de 0 = true) y por ultimo se hace la comparacion con el and lo que da (true and not False = true)"
   ]
  },
  {
   "cell_type": "code",
   "execution_count": 14,
   "metadata": {},
   "outputs": [
    {
     "name": "stdout",
     "output_type": "stream",
     "text": [
      "True\n"
     ]
    }
   ],
   "source": [
    "expr10 = (2 + 3) * 4 ** 2 // (5 % 3) and not False\n",
    "print (expr10)"
   ]
  },
  {
   "cell_type": "markdown",
   "metadata": {},
   "source": [
    "### Expresion 11\n",
    "Primero se resuelve el primer parentesis donde se hace el and de 65 y 66 lo que da (65 & 66 = 64) luego se compara el resultado con 70 lo que daria (64 > 7 = False) luego se hace el xor de 65 y 66 lo que da (65 ^ 66 = 3) despues se hace la comparacio del resultado con 0 que da (3 == 0 = False) por ultimo se hace la comparacion and del primer resultado con el ultimo lo que da (False and not False = False)"
   ]
  },
  {
   "cell_type": "code",
   "execution_count": 15,
   "metadata": {},
   "outputs": [
    {
     "name": "stdout",
     "output_type": "stream",
     "text": [
      "False\n"
     ]
    }
   ],
   "source": [
    "expr11= ((65&66) > 70) and not (65 ^ 66) == 0 \n",
    "print (expr11)"
   ]
  }
 ],
 "metadata": {
  "kernelspec": {
   "display_name": "Python 3",
   "language": "python",
   "name": "python3"
  },
  "language_info": {
   "codemirror_mode": {
    "name": "ipython",
    "version": 3
   },
   "file_extension": ".py",
   "mimetype": "text/x-python",
   "name": "python",
   "nbconvert_exporter": "python",
   "pygments_lexer": "ipython3",
   "version": "3.11.4"
  }
 },
 "nbformat": 4,
 "nbformat_minor": 2
}
